{
 "cells": [
  {
   "cell_type": "markdown",
   "metadata": {},
   "source": [
    "### QuasarNET: Inspect DESI sims\n",
    "\n",
    "This notebook will walk you through how to run [QuasarNET](https://arxiv.org/pdf/1808.09955.pdf]):\n",
    " * load training data\n",
    " * load DESI sims validation data\n",
    " * train the network (on a small training sample, optional)\n",
    " * load pre-trained weights\n",
    " * plot example spectra\n",
    " * produce QA plots and confusion matrix\n",
    "\n",
    "#### Installation instructions (requires python3):\n",
    "##### - on a standard system\n",
    "\n",
    "```bash\n",
    "git clone https://github.com/ngbusca/QuasarNET.git\n",
    "cd QuasarNET\n",
    "pip install -r requirements.txt --user\n",
    "python setup.py install --user\n",
    "```\n",
    "\n",
    "##### - at NERSC (e.g. if you wish to run this notebook at jupyter.nersc.gov)\n",
    "\n",
    "```bash\n",
    "conda create -n qnet python=3 qnet scipy numpy fitsio h5py ipykernel\n",
    "source activate qnet\n",
    "python -m ipykernel install --user --name qnet --display-name qnet\n",
    "pip install tensorflow\n",
    "pip install keras>=2.2.4\n",
    "git clone https://github.com/ngbusca/QuasarNET.git\n",
    "cd QuasarNET\n",
    "python setup.py install\n",
    "```\n",
    "\n",
    "#### - Download the pre-trained weights\n",
    "The pre-trained weights are available at: https://www.kaggle.com/ngbusca/qnet_trained_models\n",
    "\n",
    "Download the weights to the `QuasarNET/weights/` directory, unzip the file and set read/write permissions\n",
    "(skip the `kaggle datasets...` line if you've downloaded the data through the website).\n",
    "\n",
    "```bash\n",
    "cd weights\n",
    "kaggle datasets download ngbusca/qnet_trained_models\n",
    "unzip qnet_trained_models.zip\n",
    "chmod 600 *\n",
    "```"
   ]
  },
  {
   "cell_type": "code",
   "execution_count": 1,
   "metadata": {},
   "outputs": [
    {
     "name": "stderr",
     "output_type": "stream",
     "text": [
      "Using TensorFlow backend.\n"
     ]
    }
   ],
   "source": [
    "import numpy as np\n",
    "from matplotlib import pyplot as plt\n",
    "import fitsio\n",
    "from keras.models import load_model\n",
    "from quasarnet.models import custom_loss\n",
    "from quasarnet.io import read_desi_spectra, wave\n",
    "from quasarnet.utils import process_preds, absorber_IGM\n",
    "%matplotlib inline"
   ]
  },
  {
   "cell_type": "markdown",
   "metadata": {},
   "source": [
    "#### Load the DESI sims\n",
    "\n",
    "The next cell loads all spectra from a spectra file. It firsts gets the resampled fluxes on the QNet wavelength grid, then removes the mean and sets the rms of the flux to 1."
   ]
  },
  {
   "cell_type": "code",
   "execution_count": 2,
   "metadata": {},
   "outputs": [
    {
     "name": "stdout",
     "output_type": "stream",
     "text": [
      "WARN: can't load desi_mask, ignoring mask!\n",
      "INFO: found 1021 quasar targets\n",
      "INFO: founds 1021 good spectra\n"
     ]
    }
   ],
   "source": [
    "file = '/global/projecta/projectdirs/desi/mocks/lya_forest/london/v4.0/quick-0.0/spectra-16/0/0/spectra-16-0.fits'\n",
    "tids_val, flux = read_desi_spectra(file, ignore_quasar_mask=True)\n",
    "mflux = np.average(flux[:,:443], weights=flux[:,443:],axis=1)\n",
    "sflux = np.average((flux[:,:443]-mflux[:,None])**2, weights=flux[:,443:], axis=1)\n",
    "sflux = np.sqrt(sflux)\n",
    "X_val = (flux[:,:443]-mflux[:,None])/sflux[:,None]\n",
    "nspec = X_val.shape[0]"
   ]
  },
  {
   "cell_type": "markdown",
   "metadata": {},
   "source": [
    "#### Define the \"features\" that the network was trained to recognize\n",
    "\n",
    "The features are defined by their rest wavelength. \n",
    "A dictionary `{feature_name:feature_wavelength}` is defined in `quasarnet.util.absorber_IGM`, which currently contains typical quasar broad emission lines. It could be easily extended to include other features by extending the dictionary."
   ]
  },
  {
   "cell_type": "code",
   "execution_count": 3,
   "metadata": {},
   "outputs": [],
   "source": [
    "lines=['LYA','CIV(1548)','CIII(1909)', 'MgII(2796)','Hbeta','Halpha']\n",
    "lines_bal=['CIV(1548)']"
   ]
  },
  {
   "cell_type": "markdown",
   "metadata": {},
   "source": [
    "#### Load a pre-trained model\n",
    "\n",
    "The following cell loads pre-trained weights for the network, corresponding to the split defined earlier. The pre-training was done over the full training data sample and 200 epochs."
   ]
  },
  {
   "cell_type": "code",
   "execution_count": 4,
   "metadata": {},
   "outputs": [],
   "source": [
    "imodel=0\n",
    "model = load_model('../weights/qn_train_{}.h5'.format(imodel),custom_objects={'custom_loss':custom_loss})"
   ]
  },
  {
   "cell_type": "markdown",
   "metadata": {},
   "source": [
    "#### Example spectra\n",
    "\n",
    "Let's now take a look at the network output by examining a few examples. If you skipped loading the pre-trained weights you will be looking at the model you trained (it's actually not that bad!).\n",
    "\n",
    "The network outputs confidences and positions of the features defined earlier. The following plot shows a spectrum from the validation sample and the detected features. You can change the index `ival` to change the spectrum to be shown."
   ]
  },
  {
   "cell_type": "code",
   "execution_count": 5,
   "metadata": {},
   "outputs": [
    {
     "name": "stdout",
     "output_type": "stream",
     "text": [
      "INFO: nspec = 1, nboxes=13\n"
     ]
    },
    {
     "data": {
      "image/png": "[encoded data removed]",
      "text/plain": [
       "<Figure size 432x288 with 1 Axes>"
      ]
     },
     "metadata": {},
     "output_type": "display_data"
    }
   ],
   "source": [
    "ival = 900\n",
    "p=model.predict(X_val[ival:ival+1,:,None])\n",
    "c_line, z_line, zbest, c_line_bal, z_line_bal = process_preds(p, lines, lines_bal)\n",
    "plt.plot(wave, X_val[ival])\n",
    "plt.title(r'TARGETID = {}, z$_{{pred}}$ = {}'.format(tids_val[ival],round(zbest[0],3)))\n",
    "m = X_val[ival].min()\n",
    "M = X_val[ival].max()\n",
    "plt.grid()\n",
    "plt.ylim(m-2,M+2)\n",
    "for il,l in enumerate(lines):\n",
    "    lam = absorber_IGM[l]*(1+z_line[il])\n",
    "    w = abs(wave-lam)<100\n",
    "    m = X_val[ival,w].min()-1\n",
    "    M = X_val[ival,w].max()+1\n",
    "    plt.plot([lam,lam], [m,M],'r--', alpha=0.1+0.9*c_line[il])\n",
    "    plt.text(lam,M+0.5,'c$_{{{}}}={}$'.format(l,round(c_line[il,0],3)),\n",
    "             horizontalalignment='center',alpha=0.1+0.9*c_line[il])\n",
    "    "
   ]
  },
  {
   "cell_type": "markdown",
   "metadata": {},
   "source": [
    "#### Quality assesment\n",
    "\n",
    "The next cells assume that simulated spectra are all quasars and there are no BALs in the sample. \n",
    "\n",
    "QuasarNET calls a spectrum a quasar if there are more than `nlines` detected with a confidence greater than `c_th`, and similarly for BAL quasars."
   ]
  },
  {
   "cell_type": "code",
   "execution_count": 6,
   "metadata": {},
   "outputs": [],
   "source": [
    "## minimum number of lines required for quasar\n",
    "nlines = 1\n",
    "## line detection threshold\n",
    "c_th = 0.8\n",
    "\n",
    "## same thing for BAL\n",
    "nlines_bal = 1\n",
    "c_th_bal = 0.5"
   ]
  },
  {
   "cell_type": "code",
   "execution_count": 7,
   "metadata": {},
   "outputs": [
    {
     "name": "stdout",
     "output_type": "stream",
     "text": [
      "INFO: nspec = 1021, nboxes=13\n",
      "INFO: found 1021 QSOs out of 1021 spectra\n",
      "INFO: found 17 BAL out of 1021 spectra\n"
     ]
    }
   ],
   "source": [
    "p=model.predict(X_val[:,:,None])\n",
    "c_line, z_line, zbest, c_line_bal, z_line_bal = process_preds(p, lines, lines_bal)\n",
    "isqso = (c_line>c_th).sum(axis=0)>=nlines\n",
    "isbal = isqso & ((c_line_bal>c_th_bal).sum(axis=0)>=nlines_bal)\n",
    "nqso = isqso.sum()\n",
    "nbal = isbal.sum()\n",
    "\n",
    "print('INFO: found {} QSOs out of {} spectra'.format(nqso, nspec))\n",
    "print('INFO: found {} BAL out of {} spectra'.format(nbal, nspec))"
   ]
  },
  {
   "cell_type": "code",
   "execution_count": 8,
   "metadata": {},
   "outputs": [
    {
     "data": {
      "image/png": "[encoded data removed]",
      "text/plain": [
       "<Figure size 432x288 with 1 Axes>"
      ]
     },
     "metadata": {},
     "output_type": "display_data"
    }
   ],
   "source": [
    "_=plt.hist(zbest, bins=100)"
   ]
  }
 ],
 "metadata": {
  "kernelspec": {
   "display_name": "qnet",
   "language": "python",
   "name": "qnet"
  },
  "language_info": {
   "codemirror_mode": {
    "name": "ipython",
    "version": 3
   },
   "file_extension": ".py",
   "mimetype": "text/x-python",
   "name": "python",
   "nbconvert_exporter": "python",
   "pygments_lexer": "ipython3",
   "version": "3.6.5"
  }
 },
 "nbformat": 4,
 "nbformat_minor": 2
}
