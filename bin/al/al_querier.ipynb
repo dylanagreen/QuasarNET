{
 "cells": [
  {
   "cell_type": "code",
   "execution_count": 1,
   "id": "a7ebbe1d-75c8-4209-a69c-7711fab1e9f7",
   "metadata": {},
   "outputs": [],
   "source": [
    "from pathlib import Path\n",
    "\n",
    "import numpy as np\n",
    "import matplotlib.pyplot as plt\n",
    "\n",
    "from astropy.table import unique, Table\n",
    "\n",
    "from numpy.lib.recfunctions import structured_to_unstructured\n",
    "import fitsio"
   ]
  },
  {
   "cell_type": "code",
   "execution_count": 2,
   "id": "cfaa777e-50b8-4a65-aed7-d03eba9e3e2d",
   "metadata": {},
   "outputs": [],
   "source": [
    "tbl_data = Table.read(\"../qnet_ensemble_guadalupe.csv\")"
   ]
  },
  {
   "cell_type": "code",
   "execution_count": 3,
   "id": "c3202c7e-2bf9-49e5-8355-09c3ac12cc8a",
   "metadata": {},
   "outputs": [
    {
     "data": {
      "text/html": [
       "<div><i>Table length=382936</i>\n",
       "<table id=\"table139873197086560\" class=\"table-striped table-bordered table-condensed\">\n",
       "<thead><tr><th>TARGETID</th><th>TILEID</th><th>EXPID</th><th>C_NOT</th><th>C_QSO_LZ</th><th>C_QSO_HZ</th><th>BMU</th></tr></thead>\n",
       "<thead><tr><th>int64</th><th>int64</th><th>int64</th><th>float64</th><th>float64</th><th>float64</th><th>int64</th></tr></thead>\n",
       "<tr><td>39627758518669118</td><td>1000</td><td>89031</td><td>0.135</td><td>0.865</td><td>0.0</td><td>1086</td></tr>\n",
       "<tr><td>39627764562658182</td><td>1000</td><td>89031</td><td>1.0</td><td>0.0</td><td>0.0</td><td>180</td></tr>\n",
       "<tr><td>39627764562660466</td><td>1000</td><td>89031</td><td>0.015</td><td>0.0</td><td>0.985</td><td>919</td></tr>\n",
       "<tr><td>39627764566852122</td><td>1000</td><td>89031</td><td>1.0</td><td>0.0</td><td>0.0</td><td>1052</td></tr>\n",
       "<tr><td>39627764566854344</td><td>1000</td><td>89031</td><td>1.0</td><td>0.0</td><td>0.0</td><td>1012</td></tr>\n",
       "<tr><td>616088516866081489</td><td>1000</td><td>89031</td><td>1.0</td><td>0.0</td><td>0.0</td><td>1325</td></tr>\n",
       "<tr><td>39627764562662455</td><td>1000</td><td>89031</td><td>1.0</td><td>0.0</td><td>0.0</td><td>963</td></tr>\n",
       "<tr><td>39627764562661595</td><td>1000</td><td>89031</td><td>1.0</td><td>0.0</td><td>0.0</td><td>1021</td></tr>\n",
       "<tr><td>39627758518669735</td><td>1000</td><td>89031</td><td>1.0</td><td>0.0</td><td>0.0</td><td>976</td></tr>\n",
       "<tr><td>39627758522860513</td><td>1000</td><td>89031</td><td>1.0</td><td>0.0</td><td>0.0</td><td>1022</td></tr>\n",
       "<tr><td>...</td><td>...</td><td>...</td><td>...</td><td>...</td><td>...</td><td>...</td></tr>\n",
       "<tr><td>39627788960923999</td><td>1430</td><td>90523</td><td>1.0</td><td>0.0</td><td>0.0</td><td>912</td></tr>\n",
       "<tr><td>39627795000722504</td><td>1430</td><td>90523</td><td>1.0</td><td>0.0</td><td>0.0</td><td>874</td></tr>\n",
       "<tr><td>39627788956735852</td><td>1430</td><td>90523</td><td>1.0</td><td>0.0</td><td>0.0</td><td>1320</td></tr>\n",
       "<tr><td>39627788960927382</td><td>1430</td><td>90523</td><td>0.0</td><td>1.0</td><td>0.0</td><td>61</td></tr>\n",
       "<tr><td>39627788960924919</td><td>1430</td><td>90523</td><td>1.0</td><td>0.0</td><td>0.0</td><td>967</td></tr>\n",
       "<tr><td>39627795000726670</td><td>1430</td><td>90523</td><td>1.0</td><td>0.0</td><td>0.0</td><td>2007</td></tr>\n",
       "<tr><td>39627788956734803</td><td>1430</td><td>90523</td><td>1.0</td><td>0.0</td><td>0.0</td><td>1068</td></tr>\n",
       "<tr><td>39627795000725095</td><td>1430</td><td>90523</td><td>0.0</td><td>1.0</td><td>0.0</td><td>196</td></tr>\n",
       "<tr><td>39627788960927206</td><td>1430</td><td>90523</td><td>1.0</td><td>0.0</td><td>0.0</td><td>1021</td></tr>\n",
       "<tr><td>39627795004916036</td><td>1430</td><td>90523</td><td>0.0</td><td>0.0</td><td>1.0</td><td>1734</td></tr>\n",
       "</table></div>"
      ],
      "text/plain": [
       "<Table length=382936>\n",
       "     TARGETID      TILEID EXPID  C_NOT  C_QSO_LZ C_QSO_HZ  BMU \n",
       "      int64        int64  int64 float64 float64  float64  int64\n",
       "------------------ ------ ----- ------- -------- -------- -----\n",
       " 39627758518669118   1000 89031   0.135    0.865      0.0  1086\n",
       " 39627764562658182   1000 89031     1.0      0.0      0.0   180\n",
       " 39627764562660466   1000 89031   0.015      0.0    0.985   919\n",
       " 39627764566852122   1000 89031     1.0      0.0      0.0  1052\n",
       " 39627764566854344   1000 89031     1.0      0.0      0.0  1012\n",
       "616088516866081489   1000 89031     1.0      0.0      0.0  1325\n",
       " 39627764562662455   1000 89031     1.0      0.0      0.0   963\n",
       " 39627764562661595   1000 89031     1.0      0.0      0.0  1021\n",
       " 39627758518669735   1000 89031     1.0      0.0      0.0   976\n",
       " 39627758522860513   1000 89031     1.0      0.0      0.0  1022\n",
       "               ...    ...   ...     ...      ...      ...   ...\n",
       " 39627788960923999   1430 90523     1.0      0.0      0.0   912\n",
       " 39627795000722504   1430 90523     1.0      0.0      0.0   874\n",
       " 39627788956735852   1430 90523     1.0      0.0      0.0  1320\n",
       " 39627788960927382   1430 90523     0.0      1.0      0.0    61\n",
       " 39627788960924919   1430 90523     1.0      0.0      0.0   967\n",
       " 39627795000726670   1430 90523     1.0      0.0      0.0  2007\n",
       " 39627788956734803   1430 90523     1.0      0.0      0.0  1068\n",
       " 39627795000725095   1430 90523     0.0      1.0      0.0   196\n",
       " 39627788960927206   1430 90523     1.0      0.0      0.0  1021\n",
       " 39627795004916036   1430 90523     0.0      0.0      1.0  1734"
      ]
     },
     "execution_count": 3,
     "metadata": {},
     "output_type": "execute_result"
    }
   ],
   "source": [
    "tbl_data"
   ]
  },
  {
   "cell_type": "code",
   "execution_count": 4,
   "id": "00791c0f-8319-44af-bc23-ac3735739a43",
   "metadata": {},
   "outputs": [
    {
     "data": {
      "text/plain": [
       "200"
      ]
     },
     "execution_count": 4,
     "metadata": {},
     "output_type": "execute_result"
    }
   ],
   "source": [
    "cs = sorted(tbl_data[\"C_NOT\"])\n",
    "cs = np.diff(cs)\n",
    "cs_nonzero = cs != 0\n",
    "n_ens = int(1 / np.min(cs[cs_nonzero]))\n",
    "n_ens"
   ]
  },
  {
   "cell_type": "code",
   "execution_count": 5,
   "id": "e274fdf6-2044-4038-aec0-2ae4f5fcbd17",
   "metadata": {
    "tags": []
   },
   "outputs": [
    {
     "data": {
      "text/plain": [
       "([1000,\n",
       "  1001,\n",
       "  1007,\n",
       "  1010,\n",
       "  1030,\n",
       "  1078,\n",
       "  1080,\n",
       "  1081,\n",
       "  1082,\n",
       "  1083,\n",
       "  1084,\n",
       "  1085,\n",
       "  1086,\n",
       "  1087,\n",
       "  1088,\n",
       "  1089,\n",
       "  1090,\n",
       "  1091,\n",
       "  1092,\n",
       "  1093,\n",
       "  1094,\n",
       "  1095,\n",
       "  1096,\n",
       "  1097,\n",
       "  1098,\n",
       "  1099,\n",
       "  1100,\n",
       "  1101,\n",
       "  1102,\n",
       "  1103,\n",
       "  1104,\n",
       "  1105,\n",
       "  1106,\n",
       "  1107,\n",
       "  1108,\n",
       "  1109,\n",
       "  1110,\n",
       "  1111,\n",
       "  1114,\n",
       "  1116,\n",
       "  1199,\n",
       "  1200,\n",
       "  1249,\n",
       "  1411,\n",
       "  1412,\n",
       "  1430,\n",
       "  1737,\n",
       "  1750,\n",
       "  1758,\n",
       "  1773,\n",
       "  1774,\n",
       "  1833,\n",
       "  1901,\n",
       "  2071,\n",
       "  2161,\n",
       "  2163,\n",
       "  20419,\n",
       "  20886,\n",
       "  20916,\n",
       "  21089,\n",
       "  21190],\n",
       " 61)"
      ]
     },
     "execution_count": 5,
     "metadata": {},
     "output_type": "execute_result"
    }
   ],
   "source": [
    "tile_ids = sorted(np.unique(tbl_data[\"TILEID\"]))\n",
    "tile_ids, len(tile_ids)"
   ]
  },
  {
   "cell_type": "code",
   "execution_count": 6,
   "id": "7be5b1c3-e16c-49c8-a1cf-0fec275a73af",
   "metadata": {},
   "outputs": [],
   "source": [
    "def calc_entropy(confidence):\n",
    "    H = confidence * np.log(confidence)\n",
    "    H = np.where(confidence == 0, 0, H)\n",
    "    return -np.sum(H, axis=1)\n"
   ]
  },
  {
   "cell_type": "code",
   "execution_count": 7,
   "id": "42344f0e-d6d9-4f40-9500-5cd013c7394d",
   "metadata": {},
   "outputs": [
    {
     "name": "stderr",
     "output_type": "stream",
     "text": [
      "/tmp/ipykernel_93800/885452469.py:2: RuntimeWarning: divide by zero encountered in log\n",
      "  H = confidence * np.log(confidence)\n",
      "/tmp/ipykernel_93800/885452469.py:2: RuntimeWarning: invalid value encountered in multiply\n",
      "  H = confidence * np.log(confidence)\n"
     ]
    }
   ],
   "source": [
    "confs = structured_to_unstructured(np.asarray(tbl_data[\"C_NOT\", \"C_QSO_LZ\", \"C_QSO_HZ\"]))\n",
    "entropy = calc_entropy(confs)"
   ]
  },
  {
   "cell_type": "code",
   "execution_count": 8,
   "id": "087220ce-d66b-4859-bab7-9afc8690d01b",
   "metadata": {},
   "outputs": [],
   "source": [
    "tbl_data.add_column(entropy, name=\"ENTROPY\")"
   ]
  },
  {
   "cell_type": "code",
   "execution_count": 9,
   "id": "5fc8507c-d661-43ee-bf45-85a267d30005",
   "metadata": {},
   "outputs": [
    {
     "data": {
      "text/html": [
       "<div><i>Table length=382936</i>\n",
       "<table id=\"table139873197086560\" class=\"table-striped table-bordered table-condensed\">\n",
       "<thead><tr><th>TARGETID</th><th>TILEID</th><th>EXPID</th><th>C_NOT</th><th>C_QSO_LZ</th><th>C_QSO_HZ</th><th>BMU</th><th>ENTROPY</th></tr></thead>\n",
       "<thead><tr><th>int64</th><th>int64</th><th>int64</th><th>float64</th><th>float64</th><th>float64</th><th>int64</th><th>float64</th></tr></thead>\n",
       "<tr><td>39627703741055635</td><td>1083</td><td>91171</td><td>0.335</td><td>0.34</td><td>0.325</td><td>1185</td><td>1.0984368565761047</td></tr>\n",
       "<tr><td>39627915024928724</td><td>1116</td><td>93368</td><td>0.3</td><td>0.395</td><td>0.305</td><td>1353</td><td>1.0902655675840731</td></tr>\n",
       "<tr><td>39627885597689226</td><td>1412</td><td>89035</td><td>0.4</td><td>0.315</td><td>0.285</td><td>1488</td><td>1.0881496625323044</td></tr>\n",
       "<tr><td>39633016040983597</td><td>1737</td><td>88541</td><td>0.265</td><td>0.375</td><td>0.36</td><td>1491</td><td>1.087532164034828</td></tr>\n",
       "<tr><td>39627790399570335</td><td>1010</td><td>97962</td><td>0.405</td><td>0.315</td><td>0.28</td><td>1445</td><td>1.0863795466865245</td></tr>\n",
       "<tr><td>39627830631336371</td><td>1086</td><td>90762</td><td>0.265</td><td>0.34</td><td>0.395</td><td>117</td><td>1.0856254879723746</td></tr>\n",
       "<tr><td>39627933102377158</td><td>1114</td><td>93261</td><td>0.385</td><td>0.26</td><td>0.355</td><td>934</td><td>1.0853775559535304</td></tr>\n",
       "<tr><td>39633020868625571</td><td>1737</td><td>88541</td><td>0.34</td><td>0.26</td><td>0.4</td><td>1443</td><td>1.0835507260874366</td></tr>\n",
       "<tr><td>39627854698255362</td><td>1111</td><td>93260</td><td>0.415</td><td>0.26</td><td>0.325</td><td>1489</td><td>1.0804992847651955</td></tr>\n",
       "<tr><td>39627824486683714</td><td>1111</td><td>93260</td><td>0.445</td><td>0.315</td><td>0.24</td><td>1004</td><td>1.0666985005860077</td></tr>\n",
       "<tr><td>...</td><td>...</td><td>...</td><td>...</td><td>...</td><td>...</td><td>...</td><td>...</td></tr>\n",
       "<tr><td>39627788222729537</td><td>1110</td><td>91274</td><td>1.0</td><td>0.0</td><td>0.0</td><td>1067</td><td>-0.0</td></tr>\n",
       "<tr><td>39627788226921193</td><td>1110</td><td>91274</td><td>1.0</td><td>0.0</td><td>0.0</td><td>1974</td><td>-0.0</td></tr>\n",
       "<tr><td>39627788226921033</td><td>1110</td><td>91274</td><td>1.0</td><td>0.0</td><td>0.0</td><td>235</td><td>-0.0</td></tr>\n",
       "<tr><td>39627788218532059</td><td>1110</td><td>91274</td><td>1.0</td><td>0.0</td><td>0.0</td><td>236</td><td>-0.0</td></tr>\n",
       "<tr><td>39627782174543508</td><td>1110</td><td>91274</td><td>1.0</td><td>0.0</td><td>0.0</td><td>213</td><td>-0.0</td></tr>\n",
       "<tr><td>39627788226922122</td><td>1110</td><td>91274</td><td>1.0</td><td>0.0</td><td>0.0</td><td>210</td><td>-0.0</td></tr>\n",
       "<tr><td>39627788214340795</td><td>1110</td><td>91274</td><td>1.0</td><td>0.0</td><td>0.0</td><td>866</td><td>-0.0</td></tr>\n",
       "<tr><td>39627788218532046</td><td>1110</td><td>91274</td><td>1.0</td><td>0.0</td><td>0.0</td><td>979</td><td>-0.0</td></tr>\n",
       "<tr><td>39627788222729306</td><td>1110</td><td>91274</td><td>1.0</td><td>0.0</td><td>0.0</td><td>128</td><td>-0.0</td></tr>\n",
       "<tr><td>39627945395884428</td><td>1102</td><td>91082</td><td>1.0</td><td>0.0</td><td>0.0</td><td>689</td><td>-0.0</td></tr>\n",
       "</table></div>"
      ],
      "text/plain": [
       "<Table length=382936>\n",
       "     TARGETID     TILEID EXPID  C_NOT  ... C_QSO_HZ  BMU       ENTROPY      \n",
       "      int64       int64  int64 float64 ... float64  int64      float64      \n",
       "----------------- ------ ----- ------- ... -------- ----- ------------------\n",
       "39627703741055635   1083 91171   0.335 ...    0.325  1185 1.0984368565761047\n",
       "39627915024928724   1116 93368     0.3 ...    0.305  1353 1.0902655675840731\n",
       "39627885597689226   1412 89035     0.4 ...    0.285  1488 1.0881496625323044\n",
       "39633016040983597   1737 88541   0.265 ...     0.36  1491  1.087532164034828\n",
       "39627790399570335   1010 97962   0.405 ...     0.28  1445 1.0863795466865245\n",
       "39627830631336371   1086 90762   0.265 ...    0.395   117 1.0856254879723746\n",
       "39627933102377158   1114 93261   0.385 ...    0.355   934 1.0853775559535304\n",
       "39633020868625571   1737 88541    0.34 ...      0.4  1443 1.0835507260874366\n",
       "39627854698255362   1111 93260   0.415 ...    0.325  1489 1.0804992847651955\n",
       "39627824486683714   1111 93260   0.445 ...     0.24  1004 1.0666985005860077\n",
       "              ...    ...   ...     ... ...      ...   ...                ...\n",
       "39627788222729537   1110 91274     1.0 ...      0.0  1067               -0.0\n",
       "39627788226921193   1110 91274     1.0 ...      0.0  1974               -0.0\n",
       "39627788226921033   1110 91274     1.0 ...      0.0   235               -0.0\n",
       "39627788218532059   1110 91274     1.0 ...      0.0   236               -0.0\n",
       "39627782174543508   1110 91274     1.0 ...      0.0   213               -0.0\n",
       "39627788226922122   1110 91274     1.0 ...      0.0   210               -0.0\n",
       "39627788214340795   1110 91274     1.0 ...      0.0   866               -0.0\n",
       "39627788218532046   1110 91274     1.0 ...      0.0   979               -0.0\n",
       "39627788222729306   1110 91274     1.0 ...      0.0   128               -0.0\n",
       "39627945395884428   1102 91082     1.0 ...      0.0   689               -0.0"
      ]
     },
     "execution_count": 9,
     "metadata": {},
     "output_type": "execute_result"
    }
   ],
   "source": [
    "tbl_data.sort(\"ENTROPY\", reverse=True)\n",
    "\n",
    "tbl_data"
   ]
  },
  {
   "cell_type": "code",
   "execution_count": 10,
   "id": "5ca9a536-6971-4d69-be75-a0de5129285a",
   "metadata": {},
   "outputs": [
    {
     "name": "stdout",
     "output_type": "stream",
     "text": [
      "[0.   0.05 0.1  0.15 0.2  0.25 0.3  0.35 0.4  0.45 0.5  0.55 0.6  0.65\n",
      " 0.7  0.75 0.8  0.85 0.9  0.95 1.   1.05 1.1 ]\n",
      "0.6899437584583995\n"
     ]
    },
    {
     "data": {
      "image/png": "[encoded data removed]",
      "text/plain": [
       "<Figure size 1080x720 with 1 Axes>"
      ]
     },
     "metadata": {
      "needs_background": "light"
     },
     "output_type": "display_data"
    }
   ],
   "source": [
    "bins = np.linspace(0, 1.1, 23)\n",
    "print(bins)\n",
    "fig, ax = plt.subplots(figsize=(15, 10))\n",
    "n, bins, _ = plt.hist(entropy, bins=bins)\n",
    "plt.yscale(\"log\")\n",
    "\n",
    "cutoff = sorted(entropy)[-1000]\n",
    "plt.axvline(x = cutoff, c=\"r\")\n",
    "print(cutoff)"
   ]
  },
  {
   "cell_type": "code",
   "execution_count": 11,
   "id": "0a61c3a9-c4ee-4b97-984b-e83079ea7d68",
   "metadata": {},
   "outputs": [
    {
     "data": {
      "text/html": [
       "<div><i>Table length=382430</i>\n",
       "<table id=\"table139870968406800\" class=\"table-striped table-bordered table-condensed\">\n",
       "<thead><tr><th>TARGETID</th><th>TILEID</th><th>EXPID</th><th>C_NOT</th><th>C_QSO_LZ</th><th>C_QSO_HZ</th><th>BMU</th><th>ENTROPY</th></tr></thead>\n",
       "<thead><tr><th>int64</th><th>int64</th><th>int64</th><th>float64</th><th>float64</th><th>float64</th><th>int64</th><th>float64</th></tr></thead>\n",
       "<tr><td>39627703741055635</td><td>1083</td><td>91171</td><td>0.335</td><td>0.34</td><td>0.325</td><td>1185</td><td>1.0984368565761047</td></tr>\n",
       "<tr><td>39627915024928724</td><td>1116</td><td>93368</td><td>0.3</td><td>0.395</td><td>0.305</td><td>1353</td><td>1.0902655675840731</td></tr>\n",
       "<tr><td>39627885597689226</td><td>1412</td><td>89035</td><td>0.4</td><td>0.315</td><td>0.285</td><td>1488</td><td>1.0881496625323044</td></tr>\n",
       "<tr><td>39633016040983597</td><td>1737</td><td>88541</td><td>0.265</td><td>0.375</td><td>0.36</td><td>1491</td><td>1.087532164034828</td></tr>\n",
       "<tr><td>39627790399570335</td><td>1010</td><td>97962</td><td>0.405</td><td>0.315</td><td>0.28</td><td>1445</td><td>1.0863795466865245</td></tr>\n",
       "<tr><td>39627830631336371</td><td>1086</td><td>90762</td><td>0.265</td><td>0.34</td><td>0.395</td><td>117</td><td>1.0856254879723746</td></tr>\n",
       "<tr><td>39627933102377158</td><td>1114</td><td>93261</td><td>0.385</td><td>0.26</td><td>0.355</td><td>934</td><td>1.0853775559535304</td></tr>\n",
       "<tr><td>39633020868625571</td><td>1737</td><td>88541</td><td>0.34</td><td>0.26</td><td>0.4</td><td>1443</td><td>1.0835507260874366</td></tr>\n",
       "<tr><td>39627854698255362</td><td>1111</td><td>93260</td><td>0.415</td><td>0.26</td><td>0.325</td><td>1489</td><td>1.0804992847651955</td></tr>\n",
       "<tr><td>39627824486683714</td><td>1111</td><td>93260</td><td>0.445</td><td>0.315</td><td>0.24</td><td>1004</td><td>1.0666985005860077</td></tr>\n",
       "<tr><td>...</td><td>...</td><td>...</td><td>...</td><td>...</td><td>...</td><td>...</td><td>...</td></tr>\n",
       "<tr><td>39627788222729537</td><td>1110</td><td>91274</td><td>1.0</td><td>0.0</td><td>0.0</td><td>1067</td><td>-0.0</td></tr>\n",
       "<tr><td>39627788226921193</td><td>1110</td><td>91274</td><td>1.0</td><td>0.0</td><td>0.0</td><td>1974</td><td>-0.0</td></tr>\n",
       "<tr><td>39627788226921033</td><td>1110</td><td>91274</td><td>1.0</td><td>0.0</td><td>0.0</td><td>235</td><td>-0.0</td></tr>\n",
       "<tr><td>39627788218532059</td><td>1110</td><td>91274</td><td>1.0</td><td>0.0</td><td>0.0</td><td>236</td><td>-0.0</td></tr>\n",
       "<tr><td>39627782174543508</td><td>1110</td><td>91274</td><td>1.0</td><td>0.0</td><td>0.0</td><td>213</td><td>-0.0</td></tr>\n",
       "<tr><td>39627788226922122</td><td>1110</td><td>91274</td><td>1.0</td><td>0.0</td><td>0.0</td><td>210</td><td>-0.0</td></tr>\n",
       "<tr><td>39627788214340795</td><td>1110</td><td>91274</td><td>1.0</td><td>0.0</td><td>0.0</td><td>866</td><td>-0.0</td></tr>\n",
       "<tr><td>39627788218532046</td><td>1110</td><td>91274</td><td>1.0</td><td>0.0</td><td>0.0</td><td>979</td><td>-0.0</td></tr>\n",
       "<tr><td>39627788222729306</td><td>1110</td><td>91274</td><td>1.0</td><td>0.0</td><td>0.0</td><td>128</td><td>-0.0</td></tr>\n",
       "<tr><td>39627945395884428</td><td>1102</td><td>91082</td><td>1.0</td><td>0.0</td><td>0.0</td><td>689</td><td>-0.0</td></tr>\n",
       "</table></div>"
      ],
      "text/plain": [
       "<Table length=382430>\n",
       "     TARGETID     TILEID EXPID  C_NOT  ... C_QSO_HZ  BMU       ENTROPY      \n",
       "      int64       int64  int64 float64 ... float64  int64      float64      \n",
       "----------------- ------ ----- ------- ... -------- ----- ------------------\n",
       "39627703741055635   1083 91171   0.335 ...    0.325  1185 1.0984368565761047\n",
       "39627915024928724   1116 93368     0.3 ...    0.305  1353 1.0902655675840731\n",
       "39627885597689226   1412 89035     0.4 ...    0.285  1488 1.0881496625323044\n",
       "39633016040983597   1737 88541   0.265 ...     0.36  1491  1.087532164034828\n",
       "39627790399570335   1010 97962   0.405 ...     0.28  1445 1.0863795466865245\n",
       "39627830631336371   1086 90762   0.265 ...    0.395   117 1.0856254879723746\n",
       "39627933102377158   1114 93261   0.385 ...    0.355   934 1.0853775559535304\n",
       "39633020868625571   1737 88541    0.34 ...      0.4  1443 1.0835507260874366\n",
       "39627854698255362   1111 93260   0.415 ...    0.325  1489 1.0804992847651955\n",
       "39627824486683714   1111 93260   0.445 ...     0.24  1004 1.0666985005860077\n",
       "              ...    ...   ...     ... ...      ...   ...                ...\n",
       "39627788222729537   1110 91274     1.0 ...      0.0  1067               -0.0\n",
       "39627788226921193   1110 91274     1.0 ...      0.0  1974               -0.0\n",
       "39627788226921033   1110 91274     1.0 ...      0.0   235               -0.0\n",
       "39627788218532059   1110 91274     1.0 ...      0.0   236               -0.0\n",
       "39627782174543508   1110 91274     1.0 ...      0.0   213               -0.0\n",
       "39627788226922122   1110 91274     1.0 ...      0.0   210               -0.0\n",
       "39627788214340795   1110 91274     1.0 ...      0.0   866               -0.0\n",
       "39627788218532046   1110 91274     1.0 ...      0.0   979               -0.0\n",
       "39627788222729306   1110 91274     1.0 ...      0.0   128               -0.0\n",
       "39627945395884428   1102 91082     1.0 ...      0.0   689               -0.0"
      ]
     },
     "execution_count": 11,
     "metadata": {},
     "output_type": "execute_result"
    }
   ],
   "source": [
    "percentile_cut = 15\n",
    "bmu_counts = np.bincount(tbl_data[\"BMU\"], minlength=np.max(tbl_data[\"BMU\"]))\n",
    "good_bmu = bmu_counts > np.percentile(bmu_counts, percentile_cut)\n",
    "good_idcs = good_bmu[tbl_data[\"BMU\"]]\n",
    "\n",
    "tbl_reduced = tbl_data[good_idcs]\n",
    "tbl_reduced"
   ]
  },
  {
   "cell_type": "code",
   "execution_count": 12,
   "id": "77f94424-c57e-4240-af48-48ead42a279b",
   "metadata": {},
   "outputs": [
    {
     "data": {
      "text/html": [
       "<div><i>Table length=284174</i>\n",
       "<table id=\"table139870968406368\" class=\"table-striped table-bordered table-condensed\">\n",
       "<thead><tr><th>TARGETID</th><th>TILEID</th><th>EXPID</th><th>C_NOT</th><th>C_QSO_LZ</th><th>C_QSO_HZ</th><th>BMU</th><th>ENTROPY</th></tr></thead>\n",
       "<thead><tr><th>int64</th><th>int64</th><th>int64</th><th>float64</th><th>float64</th><th>float64</th><th>int64</th><th>float64</th></tr></thead>\n",
       "<tr><td>39627703741055635</td><td>1083</td><td>91171</td><td>0.335</td><td>0.34</td><td>0.325</td><td>1185</td><td>1.0984368565761047</td></tr>\n",
       "<tr><td>39627915024928724</td><td>1116</td><td>93368</td><td>0.3</td><td>0.395</td><td>0.305</td><td>1353</td><td>1.0902655675840731</td></tr>\n",
       "<tr><td>39627885597689226</td><td>1412</td><td>89035</td><td>0.4</td><td>0.315</td><td>0.285</td><td>1488</td><td>1.0881496625323044</td></tr>\n",
       "<tr><td>39633016040983597</td><td>1737</td><td>88541</td><td>0.265</td><td>0.375</td><td>0.36</td><td>1491</td><td>1.087532164034828</td></tr>\n",
       "<tr><td>39627790399570335</td><td>1010</td><td>97962</td><td>0.405</td><td>0.315</td><td>0.28</td><td>1445</td><td>1.0863795466865245</td></tr>\n",
       "<tr><td>39627830631336371</td><td>1086</td><td>90762</td><td>0.265</td><td>0.34</td><td>0.395</td><td>117</td><td>1.0856254879723746</td></tr>\n",
       "<tr><td>39627933102377158</td><td>1114</td><td>93261</td><td>0.385</td><td>0.26</td><td>0.355</td><td>934</td><td>1.0853775559535304</td></tr>\n",
       "<tr><td>39633020868625571</td><td>1737</td><td>88541</td><td>0.34</td><td>0.26</td><td>0.4</td><td>1443</td><td>1.0835507260874366</td></tr>\n",
       "<tr><td>39627854698255362</td><td>1111</td><td>93260</td><td>0.415</td><td>0.26</td><td>0.325</td><td>1489</td><td>1.0804992847651955</td></tr>\n",
       "<tr><td>39627824486683714</td><td>1111</td><td>93260</td><td>0.445</td><td>0.315</td><td>0.24</td><td>1004</td><td>1.0666985005860077</td></tr>\n",
       "<tr><td>...</td><td>...</td><td>...</td><td>...</td><td>...</td><td>...</td><td>...</td><td>...</td></tr>\n",
       "<tr><td>39627951272100773</td><td>1101</td><td>93475</td><td>1.0</td><td>0.0</td><td>0.0</td><td>258</td><td>-0.0</td></tr>\n",
       "<tr><td>39627951272100703</td><td>1101</td><td>93475</td><td>1.0</td><td>0.0</td><td>0.0</td><td>1847</td><td>-0.0</td></tr>\n",
       "<tr><td>39627951272100612</td><td>1101</td><td>93475</td><td>1.0</td><td>0.0</td><td>0.0</td><td>1021</td><td>-0.0</td></tr>\n",
       "<tr><td>39627951272100256</td><td>1101</td><td>93475</td><td>0.0</td><td>1.0</td><td>0.0</td><td>1448</td><td>-0.0</td></tr>\n",
       "<tr><td>39627951272100220</td><td>1101</td><td>93475</td><td>1.0</td><td>0.0</td><td>0.0</td><td>1021</td><td>-0.0</td></tr>\n",
       "<tr><td>39627951272100015</td><td>1101</td><td>93475</td><td>1.0</td><td>0.0</td><td>0.0</td><td>1021</td><td>-0.0</td></tr>\n",
       "<tr><td>39627951272099936</td><td>1101</td><td>93475</td><td>1.0</td><td>0.0</td><td>0.0</td><td>976</td><td>-0.0</td></tr>\n",
       "<tr><td>39627951272099860</td><td>1101</td><td>93475</td><td>1.0</td><td>0.0</td><td>0.0</td><td>77</td><td>-0.0</td></tr>\n",
       "<tr><td>39627951267910182</td><td>1101</td><td>93475</td><td>1.0</td><td>0.0</td><td>0.0</td><td>1002</td><td>-0.0</td></tr>\n",
       "<tr><td>-211909526</td><td>21190</td><td>89773</td><td>1.0</td><td>0.0</td><td>0.0</td><td>1157</td><td>-0.0</td></tr>\n",
       "</table></div>"
      ],
      "text/plain": [
       "<Table length=284174>\n",
       "     TARGETID     TILEID EXPID  C_NOT  ... C_QSO_HZ  BMU       ENTROPY      \n",
       "      int64       int64  int64 float64 ... float64  int64      float64      \n",
       "----------------- ------ ----- ------- ... -------- ----- ------------------\n",
       "39627703741055635   1083 91171   0.335 ...    0.325  1185 1.0984368565761047\n",
       "39627915024928724   1116 93368     0.3 ...    0.305  1353 1.0902655675840731\n",
       "39627885597689226   1412 89035     0.4 ...    0.285  1488 1.0881496625323044\n",
       "39633016040983597   1737 88541   0.265 ...     0.36  1491  1.087532164034828\n",
       "39627790399570335   1010 97962   0.405 ...     0.28  1445 1.0863795466865245\n",
       "39627830631336371   1086 90762   0.265 ...    0.395   117 1.0856254879723746\n",
       "39627933102377158   1114 93261   0.385 ...    0.355   934 1.0853775559535304\n",
       "39633020868625571   1737 88541    0.34 ...      0.4  1443 1.0835507260874366\n",
       "39627854698255362   1111 93260   0.415 ...    0.325  1489 1.0804992847651955\n",
       "39627824486683714   1111 93260   0.445 ...     0.24  1004 1.0666985005860077\n",
       "              ...    ...   ...     ... ...      ...   ...                ...\n",
       "39627951272100773   1101 93475     1.0 ...      0.0   258               -0.0\n",
       "39627951272100703   1101 93475     1.0 ...      0.0  1847               -0.0\n",
       "39627951272100612   1101 93475     1.0 ...      0.0  1021               -0.0\n",
       "39627951272100256   1101 93475     0.0 ...      0.0  1448               -0.0\n",
       "39627951272100220   1101 93475     1.0 ...      0.0  1021               -0.0\n",
       "39627951272100015   1101 93475     1.0 ...      0.0  1021               -0.0\n",
       "39627951272099936   1101 93475     1.0 ...      0.0   976               -0.0\n",
       "39627951272099860   1101 93475     1.0 ...      0.0    77               -0.0\n",
       "39627951267910182   1101 93475     1.0 ...      0.0  1002               -0.0\n",
       "       -211909526  21190 89773     1.0 ...      0.0  1157               -0.0"
      ]
     },
     "execution_count": 12,
     "metadata": {},
     "output_type": "execute_result"
    }
   ],
   "source": [
    "tbl_no_dupe = unique(tbl_reduced, keys=\"TARGETID\")\n",
    "tbl_no_dupe.sort(\"ENTROPY\", reverse=True)\n",
    "tbl_no_dupe"
   ]
  },
  {
   "cell_type": "code",
   "execution_count": 13,
   "id": "00992800-6e71-4e70-9d47-a88482f28660",
   "metadata": {},
   "outputs": [
    {
     "name": "stdout",
     "output_type": "stream",
     "text": [
      "[0.    0.025 0.05  0.075 0.1   0.125 0.15  0.175 0.2   0.225 0.25  0.275\n",
      " 0.3   0.325 0.35  0.375 0.4   0.425 0.45  0.475 0.5   0.525 0.55  0.575\n",
      " 0.6   0.625 0.65  0.675 0.7   0.725 0.75  0.775 0.8   0.825 0.85  0.875\n",
      " 0.9   0.925 0.95  0.975 1.    1.025 1.05  1.075 1.1  ]\n",
      "0.6899437584583995\n"
     ]
    },
    {
     "data": {
      "image/png": "[encoded data removed]",
      "text/plain": [
       "<Figure size 1080x720 with 1 Axes>"
      ]
     },
     "metadata": {
      "needs_background": "light"
     },
     "output_type": "display_data"
    }
   ],
   "source": [
    "entropy_reduced = tbl_no_dupe[\"ENTROPY\"][:]\n",
    "bins = np.linspace(0, 1.1, 23*2 - 1)\n",
    "print(bins)\n",
    "fig, ax = plt.subplots(figsize=(15, 10))\n",
    "n, bins, _ = plt.hist(entropy_reduced, bins=bins)\n",
    "plt.yscale(\"log\")\n",
    "\n",
    "cutoff = sorted(entropy_reduced)[-1000]\n",
    "plt.axvline(x = cutoff, c=\"r\")\n",
    "\n",
    "plt.xlabel(\"Entropy\")\n",
    "print(cutoff)\n",
    "plt.savefig(\"entropy_dist.jpg\", dpi=256, bbox_inches=\"tight\")"
   ]
  },
  {
   "cell_type": "code",
   "execution_count": 20,
   "id": "af9c6ea2-50a3-4715-89a3-e028a4a5db62",
   "metadata": {},
   "outputs": [],
   "source": [
    "target_id_file = \"targetid_selection.txt\"\n",
    "with open(target_id_file, \"w\") as f:\n",
    "    for x in tbl_no_dupe[\"TARGETID\"][:1000]:\n",
    "        f.write(f\"{x}\\n\")"
   ]
  },
  {
   "cell_type": "code",
   "execution_count": null,
   "id": "293da711-c1df-4810-9223-509896e8f78f",
   "metadata": {},
   "outputs": [],
   "source": []
  }
 ],
 "metadata": {
  "kernelspec": {
   "display_name": "DESI master",
   "language": "python",
   "name": "desi-master"
  },
  "language_info": {
   "codemirror_mode": {
    "name": "ipython",
    "version": 3
   },
   "file_extension": ".py",
   "mimetype": "text/x-python",
   "name": "python",
   "nbconvert_exporter": "python",
   "pygments_lexer": "ipython3",
   "version": "3.9.7"
  }
 },
 "nbformat": 4,
 "nbformat_minor": 5
}
